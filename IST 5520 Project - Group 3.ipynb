{
 "cells": [
  {
   "cell_type": "markdown",
   "metadata": {},
   "source": [
    "<h1 align=\"center\"> What Makes an Airbnb Superhost? </h1>\n",
    "<h2 align=\"center\"> An Exploratory Analysis of AirBNB Reviews</h2>\n",
    "<h3 align=\"center\"> By: John Easter, Josh Elam, Weitao Fu, Emily Moreland, Ryan Wainz </h3>\n",
    "<h3 align=\"center\"> Last Update: 2/20/2020 </h3>"
   ]
  },
  {
   "cell_type": "markdown",
   "metadata": {},
   "source": [
    "# 1. Introduction\n",
    "\n",
    "Since its founding, Airbnb has been one of the top travel sites for people who really want to be immersed in their destination city.\n",
    "\n",
    "On the Airbnb platform, users have the opportunity to choose their lodging based on price, type of room, number of bedrooms, and most importantly, reviews left by past guests. Hosts also have the opportunity to gain the distinction of a “superhost”, which means that they have provided consistent hospitality to their guests and continue to go above and beyond for those staying in their home.\n",
    "\n",
    "Through this project, we want to answer the following questions:\n",
    "* What makes someone a good host and gives them a “superhost” title?\n",
    "* What types of things help give listings good reviews?\n",
    "* How can we use a predictive model to estimate the quality of a listing?\n",
    "* Which listing should we recommend to customers if they have special needs such as religions, pets, parking and children?\n"
   ]
  },
  {
   "cell_type": "markdown",
   "metadata": {},
   "source": [
    "# 2. Data\n",
    "\n",
    "We found our data set at the following link: https://www.kaggle.com/airbnb/seattle#listings.csv\n",
    "\n",
    "This data was directly scraped from the Airbnb website here: https://www.airbnb.com/s/Seattle--WA--United-States/all "
   ]
  }
 ],
 "metadata": {
  "kernelspec": {
   "display_name": "Python 3",
   "language": "python",
   "name": "python3"
  },
  "language_info": {
   "codemirror_mode": {
    "name": "ipython",
    "version": 3
   },
   "file_extension": ".py",
   "mimetype": "text/x-python",
   "name": "python",
   "nbconvert_exporter": "python",
   "pygments_lexer": "ipython3",
   "version": "3.6.8"
  }
 },
 "nbformat": 4,
 "nbformat_minor": 4
}
